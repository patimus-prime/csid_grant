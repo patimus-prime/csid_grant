{
  "cells": [
    {
      "cell_type": "code",
      "execution_count": 1,
      "metadata": {
        "id": "UG7eUg90JaBm"
      },
      "outputs": [],
      "source": [
        "import pandas as pd"
      ]
    },
    {
      "cell_type": "code",
      "execution_count": 2,
      "metadata": {
        "colab": {
          "base_uri": "https://localhost:8080/"
        },
        "id": "Jz-Pi2C5JmAB",
        "outputId": "ec96e6fe-36f6-4602-d47d-c9384f2a1298"
      },
      "outputs": [
        {
          "name": "stdout",
          "output_type": "stream",
          "text": [
            "'CSID_prelim (1).ipynb'   gnomAD_420_2023.csv\n",
            " P14410.fasta\t\t  gnomAD_v2.1.1_ENSG00000090402_2023_01_04_01_43_24.csv\n",
            " P14410.txt\t\t  pyproject.toml\n"
          ]
        }
      ],
      "source": [
        "!ls"
      ]
    },
    {
      "cell_type": "code",
      "execution_count": 3,
      "metadata": {
        "id": "B7y_NWVFJhSg"
      },
      "outputs": [],
      "source": [
        "# df = pd.read_csv(\"./gnomAD_v2.1.1_ENSG00000090402_2023_01_04_01_43_24.csv\")\n",
        "df = pd.read_csv(\"./gnomAD_420_2023.csv\")\n"
      ]
    },
    {
      "cell_type": "code",
      "execution_count": 4,
      "metadata": {
        "colab": {
          "base_uri": "https://localhost:8080/",
          "height": 455
        },
        "id": "QmxbXxtQJ0jv",
        "outputId": "421d7aa3-636c-42c2-9349-2e014caa2e0a"
      },
      "outputs": [
        {
          "data": {
            "text/html": [
              "<div>\n",
              "<style scoped>\n",
              "    .dataframe tbody tr th:only-of-type {\n",
              "        vertical-align: middle;\n",
              "    }\n",
              "\n",
              "    .dataframe tbody tr th {\n",
              "        vertical-align: top;\n",
              "    }\n",
              "\n",
              "    .dataframe thead th {\n",
              "        text-align: right;\n",
              "    }\n",
              "</style>\n",
              "<table border=\"1\" class=\"dataframe\">\n",
              "  <thead>\n",
              "    <tr style=\"text-align: right;\">\n",
              "      <th></th>\n",
              "      <th>Chromosome</th>\n",
              "      <th>Position</th>\n",
              "      <th>rsIDs</th>\n",
              "      <th>Reference</th>\n",
              "      <th>Alternate</th>\n",
              "      <th>Source</th>\n",
              "      <th>Filters - exomes</th>\n",
              "      <th>Filters - genomes</th>\n",
              "      <th>Transcript</th>\n",
              "      <th>HGVS Consequence</th>\n",
              "      <th>...</th>\n",
              "      <th>Homozygote Count European (non-Finnish)</th>\n",
              "      <th>Hemizygote Count European (non-Finnish)</th>\n",
              "      <th>Allele Count Other</th>\n",
              "      <th>Allele Number Other</th>\n",
              "      <th>Homozygote Count Other</th>\n",
              "      <th>Hemizygote Count Other</th>\n",
              "      <th>Allele Count South Asian</th>\n",
              "      <th>Allele Number South Asian</th>\n",
              "      <th>Homozygote Count South Asian</th>\n",
              "      <th>Hemizygote Count South Asian</th>\n",
              "    </tr>\n",
              "  </thead>\n",
              "  <tbody>\n",
              "    <tr>\n",
              "      <th>0</th>\n",
              "      <td>3</td>\n",
              "      <td>164748654</td>\n",
              "      <td>rs777884395</td>\n",
              "      <td>AC</td>\n",
              "      <td>A</td>\n",
              "      <td>gnomAD Exomes</td>\n",
              "      <td>PASS</td>\n",
              "      <td>NaN</td>\n",
              "      <td>ENST00000264382.3</td>\n",
              "      <td>p.Val913PhefsTer3</td>\n",
              "      <td>...</td>\n",
              "      <td>0</td>\n",
              "      <td>0</td>\n",
              "      <td>0</td>\n",
              "      <td>4022</td>\n",
              "      <td>0</td>\n",
              "      <td>0</td>\n",
              "      <td>0</td>\n",
              "      <td>22290</td>\n",
              "      <td>0</td>\n",
              "      <td>0</td>\n",
              "    </tr>\n",
              "    <tr>\n",
              "      <th>1</th>\n",
              "      <td>3</td>\n",
              "      <td>164748655</td>\n",
              "      <td>rs200328496</td>\n",
              "      <td>C</td>\n",
              "      <td>A</td>\n",
              "      <td>gnomAD Exomes,gnomAD Genomes</td>\n",
              "      <td>PASS</td>\n",
              "      <td>PASS</td>\n",
              "      <td>ENST00000264382.3</td>\n",
              "      <td>p.Val913Phe</td>\n",
              "      <td>...</td>\n",
              "      <td>0</td>\n",
              "      <td>0</td>\n",
              "      <td>0</td>\n",
              "      <td>4540</td>\n",
              "      <td>0</td>\n",
              "      <td>0</td>\n",
              "      <td>0</td>\n",
              "      <td>21910</td>\n",
              "      <td>0</td>\n",
              "      <td>0</td>\n",
              "    </tr>\n",
              "    <tr>\n",
              "      <th>2</th>\n",
              "      <td>3</td>\n",
              "      <td>164748655</td>\n",
              "      <td>rs200328496</td>\n",
              "      <td>C</td>\n",
              "      <td>T</td>\n",
              "      <td>gnomAD Exomes</td>\n",
              "      <td>PASS</td>\n",
              "      <td>NaN</td>\n",
              "      <td>ENST00000264382.3</td>\n",
              "      <td>p.Val913Ile</td>\n",
              "      <td>...</td>\n",
              "      <td>0</td>\n",
              "      <td>0</td>\n",
              "      <td>0</td>\n",
              "      <td>3864</td>\n",
              "      <td>0</td>\n",
              "      <td>0</td>\n",
              "      <td>0</td>\n",
              "      <td>21910</td>\n",
              "      <td>0</td>\n",
              "      <td>0</td>\n",
              "    </tr>\n",
              "    <tr>\n",
              "      <th>3</th>\n",
              "      <td>3</td>\n",
              "      <td>164750371</td>\n",
              "      <td>rs758186369</td>\n",
              "      <td>A</td>\n",
              "      <td>G</td>\n",
              "      <td>gnomAD Exomes,gnomAD Genomes</td>\n",
              "      <td>PASS</td>\n",
              "      <td>PASS</td>\n",
              "      <td>ENST00000264382.3</td>\n",
              "      <td>p.Val892Ala</td>\n",
              "      <td>...</td>\n",
              "      <td>0</td>\n",
              "      <td>0</td>\n",
              "      <td>0</td>\n",
              "      <td>7164</td>\n",
              "      <td>0</td>\n",
              "      <td>0</td>\n",
              "      <td>0</td>\n",
              "      <td>30572</td>\n",
              "      <td>0</td>\n",
              "      <td>0</td>\n",
              "    </tr>\n",
              "    <tr>\n",
              "      <th>4</th>\n",
              "      <td>3</td>\n",
              "      <td>164750378</td>\n",
              "      <td>rs375206629</td>\n",
              "      <td>C</td>\n",
              "      <td>T</td>\n",
              "      <td>gnomAD Exomes</td>\n",
              "      <td>PASS</td>\n",
              "      <td>NaN</td>\n",
              "      <td>ENST00000264382.3</td>\n",
              "      <td>p.Val890Ile</td>\n",
              "      <td>...</td>\n",
              "      <td>0</td>\n",
              "      <td>0</td>\n",
              "      <td>0</td>\n",
              "      <td>6074</td>\n",
              "      <td>0</td>\n",
              "      <td>0</td>\n",
              "      <td>0</td>\n",
              "      <td>30576</td>\n",
              "      <td>0</td>\n",
              "      <td>0</td>\n",
              "    </tr>\n",
              "  </tbody>\n",
              "</table>\n",
              "<p>5 rows × 53 columns</p>\n",
              "</div>"
            ],
            "text/plain": [
              "   Chromosome   Position        rsIDs Reference Alternate  \\\n",
              "0           3  164748654  rs777884395        AC         A   \n",
              "1           3  164748655  rs200328496         C         A   \n",
              "2           3  164748655  rs200328496         C         T   \n",
              "3           3  164750371  rs758186369         A         G   \n",
              "4           3  164750378  rs375206629         C         T   \n",
              "\n",
              "                         Source Filters - exomes Filters - genomes  \\\n",
              "0                 gnomAD Exomes             PASS               NaN   \n",
              "1  gnomAD Exomes,gnomAD Genomes             PASS              PASS   \n",
              "2                 gnomAD Exomes             PASS               NaN   \n",
              "3  gnomAD Exomes,gnomAD Genomes             PASS              PASS   \n",
              "4                 gnomAD Exomes             PASS               NaN   \n",
              "\n",
              "          Transcript   HGVS Consequence  ...  \\\n",
              "0  ENST00000264382.3  p.Val913PhefsTer3  ...   \n",
              "1  ENST00000264382.3        p.Val913Phe  ...   \n",
              "2  ENST00000264382.3        p.Val913Ile  ...   \n",
              "3  ENST00000264382.3        p.Val892Ala  ...   \n",
              "4  ENST00000264382.3        p.Val890Ile  ...   \n",
              "\n",
              "  Homozygote Count European (non-Finnish)  \\\n",
              "0                                       0   \n",
              "1                                       0   \n",
              "2                                       0   \n",
              "3                                       0   \n",
              "4                                       0   \n",
              "\n",
              "  Hemizygote Count European (non-Finnish) Allele Count Other  \\\n",
              "0                                       0                  0   \n",
              "1                                       0                  0   \n",
              "2                                       0                  0   \n",
              "3                                       0                  0   \n",
              "4                                       0                  0   \n",
              "\n",
              "  Allele Number Other  Homozygote Count Other Hemizygote Count Other  \\\n",
              "0                4022                       0                      0   \n",
              "1                4540                       0                      0   \n",
              "2                3864                       0                      0   \n",
              "3                7164                       0                      0   \n",
              "4                6074                       0                      0   \n",
              "\n",
              "   Allele Count South Asian  Allele Number South Asian  \\\n",
              "0                         0                      22290   \n",
              "1                         0                      21910   \n",
              "2                         0                      21910   \n",
              "3                         0                      30572   \n",
              "4                         0                      30576   \n",
              "\n",
              "   Homozygote Count South Asian  Hemizygote Count South Asian  \n",
              "0                             0                             0  \n",
              "1                             0                             0  \n",
              "2                             0                             0  \n",
              "3                             0                             0  \n",
              "4                             0                             0  \n",
              "\n",
              "[5 rows x 53 columns]"
            ]
          },
          "execution_count": 4,
          "metadata": {},
          "output_type": "execute_result"
        }
      ],
      "source": [
        "df.head()"
      ]
    },
    {
      "cell_type": "markdown",
      "metadata": {
        "id": "pu9hXma5Uwqx"
      },
      "source": [
        "Variant ID is lost importing to pandas/loading in as CSV, instead of using Hail. But... I'm doing this late and I'm already too far in! So we'll just recreate variant ID, which is Chromosome-Position-Ref-Alt"
      ]
    },
    {
      "cell_type": "code",
      "execution_count": 5,
      "metadata": {
        "colab": {
          "base_uri": "https://localhost:8080/",
          "height": 542
        },
        "id": "CKGSHQXcVBZ-",
        "outputId": "957b9e75-311e-4c83-8e7a-390b07250143"
      },
      "outputs": [
        {
          "data": {
            "text/html": [
              "<div>\n",
              "<style scoped>\n",
              "    .dataframe tbody tr th:only-of-type {\n",
              "        vertical-align: middle;\n",
              "    }\n",
              "\n",
              "    .dataframe tbody tr th {\n",
              "        vertical-align: top;\n",
              "    }\n",
              "\n",
              "    .dataframe thead th {\n",
              "        text-align: right;\n",
              "    }\n",
              "</style>\n",
              "<table border=\"1\" class=\"dataframe\">\n",
              "  <thead>\n",
              "    <tr style=\"text-align: right;\">\n",
              "      <th></th>\n",
              "      <th>Variant_ID</th>\n",
              "      <th>Chromosome</th>\n",
              "      <th>Position</th>\n",
              "      <th>rsIDs</th>\n",
              "      <th>Reference</th>\n",
              "      <th>Alternate</th>\n",
              "      <th>Source</th>\n",
              "      <th>Filters - exomes</th>\n",
              "      <th>Filters - genomes</th>\n",
              "      <th>Transcript</th>\n",
              "      <th>...</th>\n",
              "      <th>Hemizygote Count European (non-Finnish)</th>\n",
              "      <th>Allele Count Other</th>\n",
              "      <th>Allele Number Other</th>\n",
              "      <th>Homozygote Count Other</th>\n",
              "      <th>Hemizygote Count Other</th>\n",
              "      <th>Allele Count South Asian</th>\n",
              "      <th>Allele Number South Asian</th>\n",
              "      <th>Homozygote Count South Asian</th>\n",
              "      <th>Hemizygote Count South Asian</th>\n",
              "      <th>Variant_ID</th>\n",
              "    </tr>\n",
              "  </thead>\n",
              "  <tbody>\n",
              "    <tr>\n",
              "      <th>0</th>\n",
              "      <td>3-164748654-AC-A</td>\n",
              "      <td>3</td>\n",
              "      <td>164748654</td>\n",
              "      <td>rs777884395</td>\n",
              "      <td>AC</td>\n",
              "      <td>A</td>\n",
              "      <td>gnomAD Exomes</td>\n",
              "      <td>PASS</td>\n",
              "      <td>NaN</td>\n",
              "      <td>ENST00000264382.3</td>\n",
              "      <td>...</td>\n",
              "      <td>0</td>\n",
              "      <td>0</td>\n",
              "      <td>4022</td>\n",
              "      <td>0</td>\n",
              "      <td>0</td>\n",
              "      <td>0</td>\n",
              "      <td>22290</td>\n",
              "      <td>0</td>\n",
              "      <td>0</td>\n",
              "      <td>3-164748654-AC-A</td>\n",
              "    </tr>\n",
              "    <tr>\n",
              "      <th>1</th>\n",
              "      <td>3-164748655-C-A</td>\n",
              "      <td>3</td>\n",
              "      <td>164748655</td>\n",
              "      <td>rs200328496</td>\n",
              "      <td>C</td>\n",
              "      <td>A</td>\n",
              "      <td>gnomAD Exomes,gnomAD Genomes</td>\n",
              "      <td>PASS</td>\n",
              "      <td>PASS</td>\n",
              "      <td>ENST00000264382.3</td>\n",
              "      <td>...</td>\n",
              "      <td>0</td>\n",
              "      <td>0</td>\n",
              "      <td>4540</td>\n",
              "      <td>0</td>\n",
              "      <td>0</td>\n",
              "      <td>0</td>\n",
              "      <td>21910</td>\n",
              "      <td>0</td>\n",
              "      <td>0</td>\n",
              "      <td>3-164748655-C-A</td>\n",
              "    </tr>\n",
              "    <tr>\n",
              "      <th>2</th>\n",
              "      <td>3-164748655-C-T</td>\n",
              "      <td>3</td>\n",
              "      <td>164748655</td>\n",
              "      <td>rs200328496</td>\n",
              "      <td>C</td>\n",
              "      <td>T</td>\n",
              "      <td>gnomAD Exomes</td>\n",
              "      <td>PASS</td>\n",
              "      <td>NaN</td>\n",
              "      <td>ENST00000264382.3</td>\n",
              "      <td>...</td>\n",
              "      <td>0</td>\n",
              "      <td>0</td>\n",
              "      <td>3864</td>\n",
              "      <td>0</td>\n",
              "      <td>0</td>\n",
              "      <td>0</td>\n",
              "      <td>21910</td>\n",
              "      <td>0</td>\n",
              "      <td>0</td>\n",
              "      <td>3-164748655-C-T</td>\n",
              "    </tr>\n",
              "    <tr>\n",
              "      <th>3</th>\n",
              "      <td>3-164750371-A-G</td>\n",
              "      <td>3</td>\n",
              "      <td>164750371</td>\n",
              "      <td>rs758186369</td>\n",
              "      <td>A</td>\n",
              "      <td>G</td>\n",
              "      <td>gnomAD Exomes,gnomAD Genomes</td>\n",
              "      <td>PASS</td>\n",
              "      <td>PASS</td>\n",
              "      <td>ENST00000264382.3</td>\n",
              "      <td>...</td>\n",
              "      <td>0</td>\n",
              "      <td>0</td>\n",
              "      <td>7164</td>\n",
              "      <td>0</td>\n",
              "      <td>0</td>\n",
              "      <td>0</td>\n",
              "      <td>30572</td>\n",
              "      <td>0</td>\n",
              "      <td>0</td>\n",
              "      <td>3-164750371-A-G</td>\n",
              "    </tr>\n",
              "    <tr>\n",
              "      <th>4</th>\n",
              "      <td>3-164750378-C-T</td>\n",
              "      <td>3</td>\n",
              "      <td>164750378</td>\n",
              "      <td>rs375206629</td>\n",
              "      <td>C</td>\n",
              "      <td>T</td>\n",
              "      <td>gnomAD Exomes</td>\n",
              "      <td>PASS</td>\n",
              "      <td>NaN</td>\n",
              "      <td>ENST00000264382.3</td>\n",
              "      <td>...</td>\n",
              "      <td>0</td>\n",
              "      <td>0</td>\n",
              "      <td>6074</td>\n",
              "      <td>0</td>\n",
              "      <td>0</td>\n",
              "      <td>0</td>\n",
              "      <td>30576</td>\n",
              "      <td>0</td>\n",
              "      <td>0</td>\n",
              "      <td>3-164750378-C-T</td>\n",
              "    </tr>\n",
              "  </tbody>\n",
              "</table>\n",
              "<p>5 rows × 55 columns</p>\n",
              "</div>"
            ],
            "text/plain": [
              "         Variant_ID  Chromosome   Position        rsIDs Reference Alternate  \\\n",
              "0  3-164748654-AC-A           3  164748654  rs777884395        AC         A   \n",
              "1   3-164748655-C-A           3  164748655  rs200328496         C         A   \n",
              "2   3-164748655-C-T           3  164748655  rs200328496         C         T   \n",
              "3   3-164750371-A-G           3  164750371  rs758186369         A         G   \n",
              "4   3-164750378-C-T           3  164750378  rs375206629         C         T   \n",
              "\n",
              "                         Source Filters - exomes Filters - genomes  \\\n",
              "0                 gnomAD Exomes             PASS               NaN   \n",
              "1  gnomAD Exomes,gnomAD Genomes             PASS              PASS   \n",
              "2                 gnomAD Exomes             PASS               NaN   \n",
              "3  gnomAD Exomes,gnomAD Genomes             PASS              PASS   \n",
              "4                 gnomAD Exomes             PASS               NaN   \n",
              "\n",
              "          Transcript  ... Hemizygote Count European (non-Finnish)  \\\n",
              "0  ENST00000264382.3  ...                                       0   \n",
              "1  ENST00000264382.3  ...                                       0   \n",
              "2  ENST00000264382.3  ...                                       0   \n",
              "3  ENST00000264382.3  ...                                       0   \n",
              "4  ENST00000264382.3  ...                                       0   \n",
              "\n",
              "  Allele Count Other Allele Number Other Homozygote Count Other  \\\n",
              "0                  0                4022                      0   \n",
              "1                  0                4540                      0   \n",
              "2                  0                3864                      0   \n",
              "3                  0                7164                      0   \n",
              "4                  0                6074                      0   \n",
              "\n",
              "  Hemizygote Count Other  Allele Count South Asian Allele Number South Asian  \\\n",
              "0                      0                         0                     22290   \n",
              "1                      0                         0                     21910   \n",
              "2                      0                         0                     21910   \n",
              "3                      0                         0                     30572   \n",
              "4                      0                         0                     30576   \n",
              "\n",
              "   Homozygote Count South Asian  Hemizygote Count South Asian  \\\n",
              "0                             0                             0   \n",
              "1                             0                             0   \n",
              "2                             0                             0   \n",
              "3                             0                             0   \n",
              "4                             0                             0   \n",
              "\n",
              "         Variant_ID  \n",
              "0  3-164748654-AC-A  \n",
              "1   3-164748655-C-A  \n",
              "2   3-164748655-C-T  \n",
              "3   3-164750371-A-G  \n",
              "4   3-164750378-C-T  \n",
              "\n",
              "[5 rows x 55 columns]"
            ]
          },
          "execution_count": 5,
          "metadata": {},
          "output_type": "execute_result"
        }
      ],
      "source": [
        "# create a new column 'D' as the concatenated strings of columns 'A', 'B', and 'C'\n",
        "df['Variant_ID'] = df['Chromosome'].astype(str) \\\n",
        " + '-' + df['Position'].astype(str) \\\n",
        " + '-' + df['Reference'].astype(str) \\\n",
        " + '-' + df['Alternate'].astype(str)\n",
        "\n",
        "# move the new column 'D' to the far left by reindexing the columns\n",
        "df = df.reindex(columns=['Variant_ID'] + df.columns.tolist())\n",
        "\n",
        "# display the updated dataframe\n",
        "df.head()"
      ]
    },
    {
      "cell_type": "markdown",
      "metadata": {
        "id": "CS2wHswGKNlZ"
      },
      "source": [
        "\n",
        "\n",
        "From gnomAD about:\n",
        "Stats\n",
        "v2 release is composed of 125,748 exomes and 15,708 genomes (GRCh37)\n",
        "gnomAD structural variant (SV) v2.1 represents 10,847 genomes (GRCh37)\n",
        "v3.1 spans 76,156 genomes (GRCh38)\n",
        "\n",
        "... Also we get 282832 high quality allele reads in this dataset, max (this is per variant). We have a min of approx. 10k allele reads for one variant with approx 100 reads, so it's only picked up 100 times from a limited dataset, in 10k genomes that pass quality check. I think.\n",
        "\n"
      ]
    },
    {
      "cell_type": "code",
      "execution_count": 6,
      "metadata": {
        "colab": {
          "base_uri": "https://localhost:8080/"
        },
        "id": "d6SISKKuMsVd",
        "outputId": "1c042eed-f008-42d8-94c0-91f40f951f46"
      },
      "outputs": [
        {
          "data": {
            "text/plain": [
              "array([nan, 'Uncertain significance', 'Likely benign',\n",
              "       'Conflicting interpretations of pathogenicity',\n",
              "       'Benign/Likely benign', 'Benign', 'Likely pathogenic',\n",
              "       'Pathogenic', 'Pathogenic/Likely pathogenic'], dtype=object)"
            ]
          },
          "execution_count": 6,
          "metadata": {},
          "output_type": "execute_result"
        }
      ],
      "source": [
        "df['ClinVar Clinical Significance'].unique()"
      ]
    },
    {
      "cell_type": "code",
      "execution_count": 7,
      "metadata": {
        "colab": {
          "base_uri": "https://localhost:8080/"
        },
        "id": "z2L9F0VPQyNX",
        "outputId": "8ae809bd-0a58-4bd1-d6c5-508a9a27e328"
      },
      "outputs": [
        {
          "data": {
            "text/plain": [
              "638"
            ]
          },
          "execution_count": 7,
          "metadata": {},
          "output_type": "execute_result"
        }
      ],
      "source": [
        "df['ClinVar Variation ID'].count()\n"
      ]
    },
    {
      "cell_type": "markdown",
      "metadata": {
        "id": "ohEeUOtXiLuY"
      },
      "source": [
        "457 documented variants in ClinVar -- many of unknown/conflicting significance."
      ]
    },
    {
      "cell_type": "code",
      "execution_count": 8,
      "metadata": {
        "id": "PxxUM4SGMh-g"
      },
      "outputs": [],
      "source": [
        "df_path = df[df['ClinVar Clinical Significance'].isin(['Pathogenic',\n",
        "                                                  'Pathogenic/Likely pathogenic',\n",
        "                                                  'Likely pathogenic'\n",
        "                                                  ])]"
      ]
    },
    {
      "cell_type": "code",
      "execution_count": 9,
      "metadata": {
        "colab": {
          "base_uri": "https://localhost:8080/"
        },
        "id": "Zzb4okzGNy1M",
        "outputId": "a8407ca6-f514-46eb-b42c-1fe1b669cc4a"
      },
      "outputs": [
        {
          "data": {
            "text/plain": [
              "29"
            ]
          },
          "execution_count": 9,
          "metadata": {},
          "output_type": "execute_result"
        }
      ],
      "source": [
        "df_path['ClinVar Variation ID'].count()"
      ]
    },
    {
      "cell_type": "markdown",
      "metadata": {
        "id": "OCPcRb-4Omm_"
      },
      "source": [
        "18 variants, of the 457 recorded in ClinVar, are currently clinically annotated. Note this is for variants caught in ClinVar -- many of which are not annotated. There are many variants not in ClinVar... just starting off small.\n",
        "\n",
        "If we now however look at the predicted effects for variants from df, we'll see more. VEP looks at genetic conservation, effects on regulatory regions if involved, and ultimately the difference in transcript/protein. It does not dock.\n",
        "\n",
        "See also:\n",
        "ClinVar:\n",
        "https://www.ncbi.nlm.nih.gov/clinvar/?gr=0&term=SI[gene]\n",
        "\n",
        "dbVar (includes structural vs. clinical):\n",
        "https://www.ncbi.nlm.nih.gov/dbvar?LinkName=gene_dbvar&from_uid=6476\n"
      ]
    },
    {
      "cell_type": "markdown",
      "metadata": {
        "id": "tYaEEIxbWAwZ"
      },
      "source": [
        "THIS NEXT ONE GETS ALL THE VARIANTS!"
      ]
    },
    {
      "cell_type": "code",
      "execution_count": 10,
      "metadata": {
        "colab": {
          "base_uri": "https://localhost:8080/"
        },
        "id": "Dr0WHb0MV3im",
        "outputId": "efd7b63e-b976-49ce-af89-bde5ef74bfc1"
      },
      "outputs": [
        {
          "name": "stdout",
          "output_type": "stream",
          "text": [
            "the total unique variants in df\n"
          ]
        },
        {
          "data": {
            "text/plain": [
              "Variant_ID    3470\n",
              "Variant_ID    3470\n",
              "dtype: int64"
            ]
          },
          "execution_count": 10,
          "metadata": {},
          "output_type": "execute_result"
        }
      ],
      "source": [
        "# Let's get full numbers before the following:\n",
        "print(\"the total unique variants in df\")\n",
        "df['Variant_ID'].count()"
      ]
    },
    {
      "cell_type": "code",
      "execution_count": 11,
      "metadata": {
        "colab": {
          "base_uri": "https://localhost:8080/"
        },
        "id": "VdfFkSFXWE6C",
        "outputId": "6105afa6-d816-4c1e-bb1f-2f71ee56ca61"
      },
      "outputs": [
        {
          "name": "stdout",
          "output_type": "stream",
          "text": [
            "the total variants recorded... with clinvar pathogenic annotation\n"
          ]
        },
        {
          "data": {
            "text/plain": [
              "Variant_ID    29\n",
              "Variant_ID    29\n",
              "dtype: int64"
            ]
          },
          "execution_count": 11,
          "metadata": {},
          "output_type": "execute_result"
        }
      ],
      "source": [
        "print(\"the total variants recorded... with clinvar pathogenic annotation\")\n",
        "df_path['Variant_ID'].count()"
      ]
    },
    {
      "cell_type": "code",
      "execution_count": 12,
      "metadata": {
        "colab": {
          "base_uri": "https://localhost:8080/"
        },
        "id": "IkFSBd7pRtu3",
        "outputId": "a059166f-992e-4b50-c120-1436af386427"
      },
      "outputs": [
        {
          "data": {
            "text/plain": [
              "array(['frameshift_variant', 'missense_variant', 'synonymous_variant',\n",
              "       'splice_region_variant', 'inframe_deletion', 'stop_gained',\n",
              "       'start_lost', 'protein_altering_variant', 'intron_variant',\n",
              "       'splice_acceptor_variant', 'splice_donor_variant',\n",
              "       '3_prime_UTR_variant'], dtype=object)"
            ]
          },
          "execution_count": 12,
          "metadata": {},
          "output_type": "execute_result"
        }
      ],
      "source": [
        "df['VEP Annotation'].unique()"
      ]
    },
    {
      "cell_type": "code",
      "execution_count": 13,
      "metadata": {
        "id": "DEr1ZJ3WRdye"
      },
      "outputs": [],
      "source": [
        "df_vep = df[df['VEP Annotation'].isin(['frameshift_variant',\n",
        "                                       'stop_gained',\n",
        "                                       'splice_donor_variant',\n",
        "                                       'splice_acceptor_variant',\n",
        "                                       ])]"
      ]
    },
    {
      "cell_type": "code",
      "execution_count": 14,
      "metadata": {
        "colab": {
          "base_uri": "https://localhost:8080/"
        },
        "id": "H-PzstL5WejN",
        "outputId": "72343515-68fc-4048-ff11-a10d9262c613"
      },
      "outputs": [
        {
          "data": {
            "text/plain": [
              "Variant_ID    168\n",
              "Variant_ID    168\n",
              "dtype: int64"
            ]
          },
          "execution_count": 14,
          "metadata": {},
          "output_type": "execute_result"
        }
      ],
      "source": [
        "df_vep['Variant_ID'].count()"
      ]
    },
    {
      "cell_type": "markdown",
      "metadata": {
        "id": "xltWx3xlZYoG"
      },
      "source": [
        "THAT'S THE BIG NUMBER! 168 variants that are predicted based off VEP. 150 new ones that could lead to some effect, at least based off the limited data in ensembl."
      ]
    },
    {
      "cell_type": "code",
      "execution_count": 15,
      "metadata": {
        "colab": {
          "base_uri": "https://localhost:8080/"
        },
        "id": "I_MAHjTYZD4b",
        "outputId": "75c7f1b6-bf61-43be-a515-4c35f647b159"
      },
      "outputs": [
        {
          "data": {
            "text/plain": [
              "0"
            ]
          },
          "execution_count": 15,
          "metadata": {},
          "output_type": "execute_result"
        }
      ],
      "source": [
        "df_vep['Homozygote Count'].sum()"
      ]
    },
    {
      "cell_type": "code",
      "execution_count": 16,
      "metadata": {
        "colab": {
          "base_uri": "https://localhost:8080/"
        },
        "id": "gURVxNQFhmmv",
        "outputId": "5ff8a8fb-e2a2-4a06-be65-0f7fca787bf9"
      },
      "outputs": [
        {
          "data": {
            "text/plain": [
              "0"
            ]
          },
          "execution_count": 16,
          "metadata": {},
          "output_type": "execute_result"
        }
      ],
      "source": [
        "df_path['Homozygote Count'].sum()\n"
      ]
    },
    {
      "cell_type": "markdown",
      "metadata": {
        "id": "LUIjnWRgZO_L"
      },
      "source": [
        "This is really interesting. CSID occurs in patients that are homozygote and neither allele produces functional sucrase. There's also literature that suggests heterozygote individuals also experience symptoms. It may be that no one in gnomAD has CSID, validating prior work on approx. 1/400,000 people having CSID. Just works out they weren't featured in the approx 100,000 genomes.\n",
        "\n",
        "... But gnomAD also specifically states they try not to include patients with rare diseases, because their specific mutation can potentially be used to identify them/family."
      ]
    },
    {
      "cell_type": "code",
      "execution_count": 17,
      "metadata": {
        "colab": {
          "base_uri": "https://localhost:8080/"
        },
        "id": "59l4CKE6fWpW",
        "outputId": "62a35206-cacb-422b-a2d1-844d7dfae6cc"
      },
      "outputs": [
        {
          "data": {
            "text/plain": [
              "401"
            ]
          },
          "execution_count": 17,
          "metadata": {},
          "output_type": "execute_result"
        }
      ],
      "source": [
        "# let's instead look at how many have these variants\n",
        "df_vep['Allele Count'].sum()"
      ]
    },
    {
      "cell_type": "markdown",
      "metadata": {
        "id": "3p9rO3y0fzk1"
      },
      "source": [
        "So, 200 heterozygotes with one allele predicted bad. \n",
        "200/150,000 = 1/750 (0.13%) heterozygote with potential symptoms\n",
        "\n",
        "Current estimate for homozygote approx. 1/400,000: \n",
        "de Leusse, C., et al. \"Estimating the prevalence of congenital disaccharidase deficiencies using allele frequencies from gnomAD.\" Archives de Pédiatrie 29.8 (2022): 599-603.\n",
        "\n",
        "But yeah, homozygote count is hidden/0 in this genetic database."
      ]
    },
    {
      "cell_type": "markdown",
      "metadata": {
        "id": "RlkV2iPLg0ym"
      },
      "source": [
        "---"
      ]
    },
    {
      "cell_type": "markdown",
      "metadata": {
        "id": "ET7Qbbn8WtvU"
      },
      "source": [
        "Most missense are benign for this disease; the ones that are pathogenic or likely pathogenic are above. These could still be modeled. The number is like 102k missense for one \"variant\" which may as well be the reference. "
      ]
    },
    {
      "cell_type": "code",
      "execution_count": 18,
      "metadata": {
        "id": "IA8eBFSPWtYd"
      },
      "outputs": [],
      "source": [
        "df_vep_mis = df[df['VEP Annotation'].isin([\n",
        "                                       'missense_variant',\n",
        "                                       ])]"
      ]
    },
    {
      "cell_type": "code",
      "execution_count": 19,
      "metadata": {
        "colab": {
          "base_uri": "https://localhost:8080/"
        },
        "id": "eW1dVPdvW6Bi",
        "outputId": "675f559c-a911-4eb0-de52-b948e05ee6e4"
      },
      "outputs": [
        {
          "data": {
            "text/plain": [
              "Variant_ID    1141\n",
              "Variant_ID    1141\n",
              "dtype: int64"
            ]
          },
          "execution_count": 19,
          "metadata": {},
          "output_type": "execute_result"
        }
      ],
      "source": [
        "df_vep_mis['Variant_ID'].count()\n"
      ]
    },
    {
      "cell_type": "code",
      "execution_count": 20,
      "metadata": {
        "colab": {
          "base_uri": "https://localhost:8080/"
        },
        "id": "q_K4cZ1rYpxM",
        "outputId": "f544eb79-ed8a-4ab5-b64e-68dc79971b48"
      },
      "outputs": [
        {
          "data": {
            "text/plain": [
              "count      1141.000000\n",
              "mean        145.155127\n",
              "std        3426.004690\n",
              "min           0.000000\n",
              "25%           0.000000\n",
              "50%           0.000000\n",
              "75%           0.000000\n",
              "max      102305.000000\n",
              "Name: Homozygote Count, dtype: float64"
            ]
          },
          "execution_count": 20,
          "metadata": {},
          "output_type": "execute_result"
        }
      ],
      "source": [
        "df_vep_mis['Homozygote Count'].describe()"
      ]
    },
    {
      "cell_type": "code",
      "execution_count": 21,
      "metadata": {
        "colab": {
          "base_uri": "https://localhost:8080/"
        },
        "id": "oBAo1GQLdPFz",
        "outputId": "1f18ed81-16fc-49f3-9569-fedf20405856"
      },
      "outputs": [
        {
          "data": {
            "text/plain": [
              "165622"
            ]
          },
          "execution_count": 21,
          "metadata": {},
          "output_type": "execute_result"
        }
      ],
      "source": [
        "# this is weird, another day\n",
        "df_vep_mis['Homozygote Count'].sum()"
      ]
    },
    {
      "attachments": {},
      "cell_type": "markdown",
      "metadata": {},
      "source": [
        "---\n",
        "Manufacture the mutant sequence!\n",
        "\n",
        "This will involve... deltaSeq = fn(pos, variant, refSeq)\n",
        "Probably use biopython, hope it reliably alters the sequence"
      ]
    },
    {
      "cell_type": "code",
      "execution_count": 22,
      "metadata": {},
      "outputs": [
        {
          "data": {
            "text/html": [
              "<div>\n",
              "<style scoped>\n",
              "    .dataframe tbody tr th:only-of-type {\n",
              "        vertical-align: middle;\n",
              "    }\n",
              "\n",
              "    .dataframe tbody tr th {\n",
              "        vertical-align: top;\n",
              "    }\n",
              "\n",
              "    .dataframe thead th {\n",
              "        text-align: right;\n",
              "    }\n",
              "</style>\n",
              "<table border=\"1\" class=\"dataframe\">\n",
              "  <thead>\n",
              "    <tr style=\"text-align: right;\">\n",
              "      <th></th>\n",
              "      <th>Variant_ID</th>\n",
              "      <th>Chromosome</th>\n",
              "      <th>Position</th>\n",
              "      <th>rsIDs</th>\n",
              "      <th>Reference</th>\n",
              "      <th>Alternate</th>\n",
              "      <th>Source</th>\n",
              "      <th>Filters - exomes</th>\n",
              "      <th>Filters - genomes</th>\n",
              "      <th>Transcript</th>\n",
              "      <th>...</th>\n",
              "      <th>Hemizygote Count European (non-Finnish)</th>\n",
              "      <th>Allele Count Other</th>\n",
              "      <th>Allele Number Other</th>\n",
              "      <th>Homozygote Count Other</th>\n",
              "      <th>Hemizygote Count Other</th>\n",
              "      <th>Allele Count South Asian</th>\n",
              "      <th>Allele Number South Asian</th>\n",
              "      <th>Homozygote Count South Asian</th>\n",
              "      <th>Hemizygote Count South Asian</th>\n",
              "      <th>Variant_ID</th>\n",
              "    </tr>\n",
              "  </thead>\n",
              "  <tbody>\n",
              "    <tr>\n",
              "      <th>247</th>\n",
              "      <td>3-164737547-C-T</td>\n",
              "      <td>3</td>\n",
              "      <td>164737547</td>\n",
              "      <td>rs774109373</td>\n",
              "      <td>C</td>\n",
              "      <td>T</td>\n",
              "      <td>gnomAD Exomes</td>\n",
              "      <td>PASS</td>\n",
              "      <td>NaN</td>\n",
              "      <td>ENST00000264382.3</td>\n",
              "      <td>...</td>\n",
              "      <td>0</td>\n",
              "      <td>1</td>\n",
              "      <td>6108</td>\n",
              "      <td>0</td>\n",
              "      <td>0</td>\n",
              "      <td>0</td>\n",
              "      <td>30608</td>\n",
              "      <td>0</td>\n",
              "      <td>0</td>\n",
              "      <td>3-164737547-C-T</td>\n",
              "    </tr>\n",
              "    <tr>\n",
              "      <th>354</th>\n",
              "      <td>3-164712069-G-A</td>\n",
              "      <td>3</td>\n",
              "      <td>164712069</td>\n",
              "      <td>rs376062850</td>\n",
              "      <td>G</td>\n",
              "      <td>A</td>\n",
              "      <td>gnomAD Exomes,gnomAD Genomes</td>\n",
              "      <td>PASS</td>\n",
              "      <td>PASS</td>\n",
              "      <td>ENST00000264382.3</td>\n",
              "      <td>...</td>\n",
              "      <td>0</td>\n",
              "      <td>1</td>\n",
              "      <td>7182</td>\n",
              "      <td>0</td>\n",
              "      <td>0</td>\n",
              "      <td>0</td>\n",
              "      <td>30594</td>\n",
              "      <td>0</td>\n",
              "      <td>0</td>\n",
              "      <td>3-164712069-G-A</td>\n",
              "    </tr>\n",
              "    <tr>\n",
              "      <th>413</th>\n",
              "      <td>3-164741510-AAG-A</td>\n",
              "      <td>3</td>\n",
              "      <td>164741510</td>\n",
              "      <td>rs751263307</td>\n",
              "      <td>AAG</td>\n",
              "      <td>A</td>\n",
              "      <td>gnomAD Exomes</td>\n",
              "      <td>PASS</td>\n",
              "      <td>NaN</td>\n",
              "      <td>ENST00000264382.3</td>\n",
              "      <td>...</td>\n",
              "      <td>0</td>\n",
              "      <td>0</td>\n",
              "      <td>6090</td>\n",
              "      <td>0</td>\n",
              "      <td>0</td>\n",
              "      <td>0</td>\n",
              "      <td>30604</td>\n",
              "      <td>0</td>\n",
              "      <td>0</td>\n",
              "      <td>3-164741510-AAG-A</td>\n",
              "    </tr>\n",
              "    <tr>\n",
              "      <th>697</th>\n",
              "      <td>3-164750402-CAAGGATTT-C</td>\n",
              "      <td>3</td>\n",
              "      <td>164750402</td>\n",
              "      <td>rs1461489544</td>\n",
              "      <td>CAAGGATTT</td>\n",
              "      <td>C</td>\n",
              "      <td>gnomAD Exomes</td>\n",
              "      <td>PASS</td>\n",
              "      <td>NaN</td>\n",
              "      <td>ENST00000264382.3</td>\n",
              "      <td>...</td>\n",
              "      <td>0</td>\n",
              "      <td>0</td>\n",
              "      <td>6082</td>\n",
              "      <td>0</td>\n",
              "      <td>0</td>\n",
              "      <td>0</td>\n",
              "      <td>30574</td>\n",
              "      <td>0</td>\n",
              "      <td>0</td>\n",
              "      <td>3-164750402-CAAGGATTT-C</td>\n",
              "    </tr>\n",
              "    <tr>\n",
              "      <th>779</th>\n",
              "      <td>3-164781249-T-TA</td>\n",
              "      <td>3</td>\n",
              "      <td>164781249</td>\n",
              "      <td>rs769103567</td>\n",
              "      <td>T</td>\n",
              "      <td>TA</td>\n",
              "      <td>gnomAD Exomes,gnomAD Genomes</td>\n",
              "      <td>PASS</td>\n",
              "      <td>PASS</td>\n",
              "      <td>ENST00000264382.3</td>\n",
              "      <td>...</td>\n",
              "      <td>0</td>\n",
              "      <td>0</td>\n",
              "      <td>7110</td>\n",
              "      <td>0</td>\n",
              "      <td>0</td>\n",
              "      <td>0</td>\n",
              "      <td>30114</td>\n",
              "      <td>0</td>\n",
              "      <td>0</td>\n",
              "      <td>3-164781249-T-TA</td>\n",
              "    </tr>\n",
              "  </tbody>\n",
              "</table>\n",
              "<p>5 rows × 55 columns</p>\n",
              "</div>"
            ],
            "text/plain": [
              "                  Variant_ID  Chromosome   Position         rsIDs  Reference  \\\n",
              "247          3-164737547-C-T           3  164737547   rs774109373          C   \n",
              "354          3-164712069-G-A           3  164712069   rs376062850          G   \n",
              "413        3-164741510-AAG-A           3  164741510   rs751263307        AAG   \n",
              "697  3-164750402-CAAGGATTT-C           3  164750402  rs1461489544  CAAGGATTT   \n",
              "779         3-164781249-T-TA           3  164781249   rs769103567          T   \n",
              "\n",
              "    Alternate                        Source Filters - exomes  \\\n",
              "247         T                 gnomAD Exomes             PASS   \n",
              "354         A  gnomAD Exomes,gnomAD Genomes             PASS   \n",
              "413         A                 gnomAD Exomes             PASS   \n",
              "697         C                 gnomAD Exomes             PASS   \n",
              "779        TA  gnomAD Exomes,gnomAD Genomes             PASS   \n",
              "\n",
              "    Filters - genomes         Transcript  ...  \\\n",
              "247               NaN  ENST00000264382.3  ...   \n",
              "354              PASS  ENST00000264382.3  ...   \n",
              "413               NaN  ENST00000264382.3  ...   \n",
              "697               NaN  ENST00000264382.3  ...   \n",
              "779              PASS  ENST00000264382.3  ...   \n",
              "\n",
              "    Hemizygote Count European (non-Finnish) Allele Count Other  \\\n",
              "247                                       0                  1   \n",
              "354                                       0                  1   \n",
              "413                                       0                  0   \n",
              "697                                       0                  0   \n",
              "779                                       0                  0   \n",
              "\n",
              "    Allele Number Other Homozygote Count Other Hemizygote Count Other  \\\n",
              "247                6108                      0                      0   \n",
              "354                7182                      0                      0   \n",
              "413                6090                      0                      0   \n",
              "697                6082                      0                      0   \n",
              "779                7110                      0                      0   \n",
              "\n",
              "     Allele Count South Asian Allele Number South Asian  \\\n",
              "247                         0                     30608   \n",
              "354                         0                     30594   \n",
              "413                         0                     30604   \n",
              "697                         0                     30574   \n",
              "779                         0                     30114   \n",
              "\n",
              "     Homozygote Count South Asian  Hemizygote Count South Asian  \\\n",
              "247                             0                             0   \n",
              "354                             0                             0   \n",
              "413                             0                             0   \n",
              "697                             0                             0   \n",
              "779                             0                             0   \n",
              "\n",
              "                  Variant_ID  \n",
              "247          3-164737547-C-T  \n",
              "354          3-164712069-G-A  \n",
              "413        3-164741510-AAG-A  \n",
              "697  3-164750402-CAAGGATTT-C  \n",
              "779         3-164781249-T-TA  \n",
              "\n",
              "[5 rows x 55 columns]"
            ]
          },
          "execution_count": 22,
          "metadata": {},
          "output_type": "execute_result"
        }
      ],
      "source": [
        "df_path.head()\n"
      ]
    },
    {
      "attachments": {},
      "cell_type": "markdown",
      "metadata": {},
      "source": [
        "---\n",
        "This data table is not reasonable for this task, however. I think so far it's helped and provided more info than the default table in gnomAD for getting numbers, but I really now just want the protein seq, can back track to this later. So, we need to reconfigure our table.\n"
      ]
    },
    {
      "cell_type": "code",
      "execution_count": 23,
      "metadata": {},
      "outputs": [],
      "source": [
        "pathVarPos = df_path['HGVS Consequence']"
      ]
    },
    {
      "cell_type": "code",
      "execution_count": 24,
      "metadata": {},
      "outputs": [
        {
          "data": {
            "text/plain": [
              "247             p.Trp1089Ter\n",
              "354             p.Thr1606Ile\n",
              "413       p.Ser982LeufsTer16\n",
              "697       p.Lys879ArgfsTer10\n",
              "779        p.Leu296PhefsTer4\n",
              "995         p.Gly92LeufsTer8\n",
              "1119             p.Glu613Ter\n",
              "1128             p.Glu285Ter\n",
              "1135             p.Glu179Ter\n",
              "1187       p.Gln677AlafsTer7\n",
              "1203             p.Gln278Ter\n",
              "1204      p.Gln278HisfsTer18\n",
              "1244      p.Cys646AlafsTer44\n",
              "1253            p.Cys1229Tyr\n",
              "1284             p.Asp536Val\n",
              "1448      p.Asn1403IlefsTer8\n",
              "1462      p.Asn1027LysfsTer2\n",
              "1510             p.Arg263Ter\n",
              "1537            p.Arg1609Ter\n",
              "1550            p.Arg1504Ter\n",
              "1576            p.Arg1124Ter\n",
              "1589            p.Arg1077Ter\n",
              "1824              c.635+2T>C\n",
              "2091    c.4840_4841+2delGAGT\n",
              "2206             c.4575+2T>C\n",
              "2524              c.373+1G>A\n",
              "2787             c.2737-1G>C\n",
              "3229             c.1513-1G>A\n",
              "3386             c.1146+1G>A\n",
              "Name: HGVS Consequence, dtype: object"
            ]
          },
          "execution_count": 24,
          "metadata": {},
          "output_type": "execute_result"
        }
      ],
      "source": [
        "# I'm showing this to demo the protein and codon level changes\n",
        "pathVarPos"
      ]
    },
    {
      "attachments": {},
      "cell_type": "markdown",
      "metadata": {},
      "source": [
        "Alright, so, I need to filter this for p*; I'll double check later if these are exclusive or not, i.e. if c and p are recorded, nto the same mutation. For now just want some proof of concept. And... I think I wanna grab the frameshift ones first. SOOO...."
      ]
    },
    {
      "cell_type": "code",
      "execution_count": 25,
      "metadata": {},
      "outputs": [
        {
          "data": {
            "text/html": [
              "<div>\n",
              "<style scoped>\n",
              "    .dataframe tbody tr th:only-of-type {\n",
              "        vertical-align: middle;\n",
              "    }\n",
              "\n",
              "    .dataframe tbody tr th {\n",
              "        vertical-align: top;\n",
              "    }\n",
              "\n",
              "    .dataframe thead th {\n",
              "        text-align: right;\n",
              "    }\n",
              "</style>\n",
              "<table border=\"1\" class=\"dataframe\">\n",
              "  <thead>\n",
              "    <tr style=\"text-align: right;\">\n",
              "      <th></th>\n",
              "      <th>Variant_ID</th>\n",
              "      <th>Chromosome</th>\n",
              "      <th>Position</th>\n",
              "      <th>rsIDs</th>\n",
              "      <th>Reference</th>\n",
              "      <th>Alternate</th>\n",
              "      <th>Source</th>\n",
              "      <th>Filters - exomes</th>\n",
              "      <th>Filters - genomes</th>\n",
              "      <th>Transcript</th>\n",
              "      <th>...</th>\n",
              "      <th>Hemizygote Count European (non-Finnish)</th>\n",
              "      <th>Allele Count Other</th>\n",
              "      <th>Allele Number Other</th>\n",
              "      <th>Homozygote Count Other</th>\n",
              "      <th>Hemizygote Count Other</th>\n",
              "      <th>Allele Count South Asian</th>\n",
              "      <th>Allele Number South Asian</th>\n",
              "      <th>Homozygote Count South Asian</th>\n",
              "      <th>Hemizygote Count South Asian</th>\n",
              "      <th>Variant_ID</th>\n",
              "    </tr>\n",
              "  </thead>\n",
              "  <tbody>\n",
              "    <tr>\n",
              "      <th>0</th>\n",
              "      <td>3-164748654-AC-A</td>\n",
              "      <td>3</td>\n",
              "      <td>164748654</td>\n",
              "      <td>rs777884395</td>\n",
              "      <td>AC</td>\n",
              "      <td>A</td>\n",
              "      <td>gnomAD Exomes</td>\n",
              "      <td>PASS</td>\n",
              "      <td>NaN</td>\n",
              "      <td>ENST00000264382.3</td>\n",
              "      <td>...</td>\n",
              "      <td>0</td>\n",
              "      <td>0</td>\n",
              "      <td>4022</td>\n",
              "      <td>0</td>\n",
              "      <td>0</td>\n",
              "      <td>0</td>\n",
              "      <td>22290</td>\n",
              "      <td>0</td>\n",
              "      <td>0</td>\n",
              "      <td>3-164748654-AC-A</td>\n",
              "    </tr>\n",
              "    <tr>\n",
              "      <th>12</th>\n",
              "      <td>3-164755783-C-CCGTT</td>\n",
              "      <td>3</td>\n",
              "      <td>164755783</td>\n",
              "      <td>rs544348891</td>\n",
              "      <td>C</td>\n",
              "      <td>CCGTT</td>\n",
              "      <td>gnomAD Exomes</td>\n",
              "      <td>PASS</td>\n",
              "      <td>NaN</td>\n",
              "      <td>ENST00000264382.3</td>\n",
              "      <td>...</td>\n",
              "      <td>0</td>\n",
              "      <td>0</td>\n",
              "      <td>6108</td>\n",
              "      <td>0</td>\n",
              "      <td>0</td>\n",
              "      <td>0</td>\n",
              "      <td>30604</td>\n",
              "      <td>0</td>\n",
              "      <td>0</td>\n",
              "      <td>3-164755783-C-CCGTT</td>\n",
              "    </tr>\n",
              "    <tr>\n",
              "      <th>27</th>\n",
              "      <td>3-164764795-A-ACAGC</td>\n",
              "      <td>3</td>\n",
              "      <td>164764795</td>\n",
              "      <td>rs1273409266</td>\n",
              "      <td>A</td>\n",
              "      <td>ACAGC</td>\n",
              "      <td>gnomAD Exomes</td>\n",
              "      <td>PASS</td>\n",
              "      <td>NaN</td>\n",
              "      <td>ENST00000264382.3</td>\n",
              "      <td>...</td>\n",
              "      <td>0</td>\n",
              "      <td>0</td>\n",
              "      <td>5852</td>\n",
              "      <td>0</td>\n",
              "      <td>0</td>\n",
              "      <td>0</td>\n",
              "      <td>29134</td>\n",
              "      <td>0</td>\n",
              "      <td>0</td>\n",
              "      <td>3-164764795-A-ACAGC</td>\n",
              "    </tr>\n",
              "    <tr>\n",
              "      <th>159</th>\n",
              "      <td>3-164783146-T-TA</td>\n",
              "      <td>3</td>\n",
              "      <td>164783146</td>\n",
              "      <td>NaN</td>\n",
              "      <td>T</td>\n",
              "      <td>TA</td>\n",
              "      <td>gnomAD Exomes</td>\n",
              "      <td>PASS</td>\n",
              "      <td>NaN</td>\n",
              "      <td>ENST00000264382.3</td>\n",
              "      <td>...</td>\n",
              "      <td>0</td>\n",
              "      <td>0</td>\n",
              "      <td>6110</td>\n",
              "      <td>0</td>\n",
              "      <td>0</td>\n",
              "      <td>0</td>\n",
              "      <td>30584</td>\n",
              "      <td>0</td>\n",
              "      <td>0</td>\n",
              "      <td>3-164783146-T-TA</td>\n",
              "    </tr>\n",
              "    <tr>\n",
              "      <th>162</th>\n",
              "      <td>3-164785190-ATCAT-A</td>\n",
              "      <td>3</td>\n",
              "      <td>164785190</td>\n",
              "      <td>rs927354199</td>\n",
              "      <td>ATCAT</td>\n",
              "      <td>A</td>\n",
              "      <td>gnomAD Exomes</td>\n",
              "      <td>PASS</td>\n",
              "      <td>NaN</td>\n",
              "      <td>ENST00000264382.3</td>\n",
              "      <td>...</td>\n",
              "      <td>0</td>\n",
              "      <td>0</td>\n",
              "      <td>6126</td>\n",
              "      <td>0</td>\n",
              "      <td>0</td>\n",
              "      <td>1</td>\n",
              "      <td>30606</td>\n",
              "      <td>0</td>\n",
              "      <td>0</td>\n",
              "      <td>3-164785190-ATCAT-A</td>\n",
              "    </tr>\n",
              "  </tbody>\n",
              "</table>\n",
              "<p>5 rows × 55 columns</p>\n",
              "</div>"
            ],
            "text/plain": [
              "              Variant_ID  Chromosome   Position         rsIDs Reference  \\\n",
              "0       3-164748654-AC-A           3  164748654   rs777884395        AC   \n",
              "12   3-164755783-C-CCGTT           3  164755783   rs544348891         C   \n",
              "27   3-164764795-A-ACAGC           3  164764795  rs1273409266         A   \n",
              "159     3-164783146-T-TA           3  164783146           NaN         T   \n",
              "162  3-164785190-ATCAT-A           3  164785190   rs927354199     ATCAT   \n",
              "\n",
              "    Alternate         Source Filters - exomes Filters - genomes  \\\n",
              "0           A  gnomAD Exomes             PASS               NaN   \n",
              "12      CCGTT  gnomAD Exomes             PASS               NaN   \n",
              "27      ACAGC  gnomAD Exomes             PASS               NaN   \n",
              "159        TA  gnomAD Exomes             PASS               NaN   \n",
              "162         A  gnomAD Exomes             PASS               NaN   \n",
              "\n",
              "            Transcript  ... Hemizygote Count European (non-Finnish)  \\\n",
              "0    ENST00000264382.3  ...                                       0   \n",
              "12   ENST00000264382.3  ...                                       0   \n",
              "27   ENST00000264382.3  ...                                       0   \n",
              "159  ENST00000264382.3  ...                                       0   \n",
              "162  ENST00000264382.3  ...                                       0   \n",
              "\n",
              "    Allele Count Other Allele Number Other Homozygote Count Other  \\\n",
              "0                    0                4022                      0   \n",
              "12                   0                6108                      0   \n",
              "27                   0                5852                      0   \n",
              "159                  0                6110                      0   \n",
              "162                  0                6126                      0   \n",
              "\n",
              "    Hemizygote Count Other  Allele Count South Asian  \\\n",
              "0                        0                         0   \n",
              "12                       0                         0   \n",
              "27                       0                         0   \n",
              "159                      0                         0   \n",
              "162                      0                         1   \n",
              "\n",
              "    Allele Number South Asian  Homozygote Count South Asian  \\\n",
              "0                       22290                             0   \n",
              "12                      30604                             0   \n",
              "27                      29134                             0   \n",
              "159                     30584                             0   \n",
              "162                     30606                             0   \n",
              "\n",
              "     Hemizygote Count South Asian           Variant_ID  \n",
              "0                               0     3-164748654-AC-A  \n",
              "12                              0  3-164755783-C-CCGTT  \n",
              "27                              0  3-164764795-A-ACAGC  \n",
              "159                             0     3-164783146-T-TA  \n",
              "162                             0  3-164785190-ATCAT-A  \n",
              "\n",
              "[5 rows x 55 columns]"
            ]
          },
          "execution_count": 25,
          "metadata": {},
          "output_type": "execute_result"
        }
      ],
      "source": [
        "df_frameshift = df[df['VEP Annotation'].isin([\n",
        "                                       'frameshift_variant',\n",
        "                                       ])]\n",
        "df_frameshift.head()"
      ]
    },
    {
      "cell_type": "code",
      "execution_count": 26,
      "metadata": {},
      "outputs": [
        {
          "data": {
            "text/plain": [
              "0         p.Val913PhefsTer3\n",
              "12        p.Val778ThrfsTer3\n",
              "27        p.Val574GlyfsTer8\n",
              "159      p.Tyr237LeufsTer11\n",
              "162       p.Tyr190LeufsTer2\n",
              "205            p.Tyr1063Ter\n",
              "226             p.Trp453Ter\n",
              "281      p.Thr725ArgfsTer22\n",
              "350     p.Thr1661ArgfsTer14\n",
              "405     p.Thr1130IlefsTer54\n",
              "413      p.Ser982LeufsTer16\n",
              "437       p.Ser516LeufsTer7\n",
              "469     p.Ser1723LeufsTer10\n",
              "497     p.Ser1012LeufsTer11\n",
              "501             p.Pro898Ter\n",
              "517      p.Pro579LeufsTer24\n",
              "532      p.Pro409LeufsTer24\n",
              "581     p.Pro1140LeufsTer44\n",
              "603      p.Phe927LeufsTer69\n",
              "608       p.Phe831LeufsTer3\n",
              "618      p.Phe411LeufsTer22\n",
              "644     p.Phe1521GlufsTer62\n",
              "686     p.Met1196ValfsTer15\n",
              "697      p.Lys879ArgfsTer10\n",
              "707         p.Lys4AsnfsTer9\n",
              "713      p.Lys193IlefsTer22\n",
              "754      p.Leu735PhefsTer12\n",
              "759       p.Leu681TrpfsTer9\n",
              "779       p.Leu296PhefsTer4\n",
              "780       p.Leu296PhefsTer2\n",
              "794     p.Leu1772PhefsTer16\n",
              "795     p.Leu1772GlyfsTer20\n",
              "843       p.Leu102TyrfsTer8\n",
              "963       p.His451ArgfsTer5\n",
              "984      p.His1210GlnfsTer2\n",
              "995        p.Gly92LeufsTer8\n",
              "1018     p.Gly515LeufsTer10\n",
              "1038      p.Gly289ValfsTer9\n",
              "1071    p.Gly1495AspfsTer21\n",
              "1163     p.Glu1069AspfsTer2\n",
              "1187      p.Gln677AlafsTer7\n",
              "1204     p.Gln278HisfsTer18\n",
              "1218     p.Gln153ArgfsTer25\n",
              "1244     p.Cys646AlafsTer44\n",
              "1258     p.Asp948ValfsTer48\n",
              "1367    p.Asp1060GlufsTer67\n",
              "1370    p.Asp1036IlefsTer13\n",
              "1377     p.Asn981ThrfsTer15\n",
              "1388      p.Asn895LysfsTer2\n",
              "1421    p.Asn1815SerfsTer73\n",
              "1438    p.Asn1535GlnfsTer30\n",
              "1448     p.Asn1403IlefsTer8\n",
              "1462     p.Asn1027LysfsTer2\n",
              "1529      p.Arg169AspfsTer9\n",
              "1531     p.Arg168GlufsTer10\n",
              "1610     p.Ala826HisfsTer10\n",
              "1685     p.Ala1310CysfsTer3\n",
              "Name: HGVS Consequence, dtype: object"
            ]
          },
          "execution_count": 26,
          "metadata": {},
          "output_type": "execute_result"
        }
      ],
      "source": [
        "frameshiftPos = df_frameshift['HGVS Consequence']\n",
        "frameshiftPos"
      ]
    },
    {
      "attachments": {},
      "cell_type": "markdown",
      "metadata": {},
      "source": [
        "Ok, that's kinda misleading, but it's what we're going for. Now need to assure only p* in these values\n",
        "\n",
        "And because I was thinking ahead to getting the coordinates: We can definitely use positions 1500 and 1394, highly conserved D, aspartic acid (asparDate) to extract coordinates wherever alphafold spits out the residues. Then autobox from there. BAM! Or specify the gridbox etc. \n",
        "\n",
        "\"Asp1394 in SUC within the conserved motif of DGLWIDMNE (underlined) constitute the catalytic nucleophile residues in the active site (27, 28). By resolving the crystal structure of the N-terminal domain of SI...\"\n",
        "\n",
        "he nucleophilic catalytic residue of human SI is located in the DGLWIDMNE sequence, which is conserved among all members of the GH31 family of enzymes (12, 28, 31). By resolving the crystal structure of the N-terminal domain of human SI, Asp604\n",
        "\n",
        "Therefore, based on amino acid sequence alignment, we predicted Asp1500 in the consensus sequence of HWLGDN in SUC to function as the proton donor residue for hydrolysis (Fig. 2). \"\n",
        "https://www.jbc.org/article/S0021-9258(20)36518-2/fulltext\n",
        "Gericke, Birthe, et al. \"Structure-function analysis of human sucrase-isomaltase identifies key residues required for catalytic activity.\" Journal of Biological Chemistry 292.26 (2017): 11070-11078.\n",
        "\n",
        "Their thing is based off: https://www.rcsb.org/structure/3TOP\n"
      ]
    },
    {
      "attachments": {},
      "cell_type": "markdown",
      "metadata": {},
      "source": [
        "---\n",
        "ANYWAY, I still need wild type human sucrase sequence.\n",
        "Ladies and gentlemen, we found her:\n",
        "https://www.uniprot.org/uniprotkb/P14410/entry\n",
        "https://rest.uniprot.org/uniprotkb/P14410.fasta\n",
        "\n",
        "https://grch37.ensembl.org/Homo_sapiens/Transcript/Summary?g=ENSG00000090402;r=3:164696686-164796283;t=ENST00000264382\n",
        "\n",
        ".txt also available; it states 1827 AA. "
      ]
    },
    {
      "attachments": {},
      "cell_type": "markdown",
      "metadata": {},
      "source": [
        "Import seq from ref fasta file"
      ]
    },
    {
      "cell_type": "code",
      "execution_count": 27,
      "metadata": {},
      "outputs": [
        {
          "ename": "ModuleNotFoundError",
          "evalue": "No module named 'Bio'",
          "output_type": "error",
          "traceback": [
            "\u001b[0;31m---------------------------------------------------------------------------\u001b[0m",
            "\u001b[0;31mModuleNotFoundError\u001b[0m                       Traceback (most recent call last)",
            "Cell \u001b[0;32mIn[27], line 2\u001b[0m\n\u001b[1;32m      1\u001b[0m \u001b[39m# Copied those both in. Now we need Biopython... I suppose, could also do with strings but that'd be annoying\u001b[39;00m\n\u001b[0;32m----> 2\u001b[0m \u001b[39mfrom\u001b[39;00m \u001b[39mBio\u001b[39;00m \u001b[39mimport\u001b[39;00m SeqIO\n\u001b[1;32m      4\u001b[0m \u001b[39m# open the FASTA file\u001b[39;00m\n\u001b[1;32m      5\u001b[0m \u001b[39mwith\u001b[39;00m \u001b[39mopen\u001b[39m(\u001b[39m\"\u001b[39m\u001b[39mP14410.fasta\u001b[39m\u001b[39m\"\u001b[39m) \u001b[39mas\u001b[39;00m handle:\n\u001b[1;32m      6\u001b[0m     \u001b[39m# parse the file using SeqIO\u001b[39;00m\n",
            "\u001b[0;31mModuleNotFoundError\u001b[0m: No module named 'Bio'"
          ]
        }
      ],
      "source": [
        "# Copied those both in. Now we need Biopython... I suppose, could also do with strings but that'd be annoying\n",
        "from Bio import SeqIO\n",
        "\n",
        "# open the FASTA file\n",
        "with open(\"P14410.fasta\") as handle:\n",
        "    # parse the file using SeqIO\n",
        "    for record in SeqIO.parse(handle, \"fasta\"):\n",
        "        # access the sequence and description of each record\n",
        "        sequence = record.seq\n",
        "        description = record.description\n",
        "        print(f\"{description}: {sequence}\")\n"
      ]
    },
    {
      "cell_type": "code",
      "execution_count": null,
      "metadata": {},
      "outputs": [],
      "source": [
        "from Bio.Seq import Seq\n",
        "\n",
        "# Define the reference protein sequence\n",
        "ref_prot_seq = Seq(\"MVLSPADKTNVKAAWGKVGAHAGEYGAEALERMFLSFPTTKTYFPHFDLSHGSAQVKGHGKKVADALTNAVAHVDDMPNALSALSDLHAHKLRVDPVNFKLLSHCLLVTLAAHLPAEFTPAVHASLDKFLASVSTVLTSKYR\")\n",
        "\n",
        "# Define the mutation position and mutation type\n",
        "mutation_pos = 35\n",
        "mutation_type = \"frameshift\"\n",
        "\n",
        "# Translate the protein sequence to DNA\n",
        "ref_dna_seq = ref_prot_seq.back_transcribe()\n",
        "\n",
        "# Insert the frameshift mutation\n",
        "if mutation_type == \"frameshift\":\n",
        "    upstream_seq = ref_dna_seq[:3 * (mutation_pos - 1)]\n",
        "    frameshift_seq = Seq(\"AAA\")\n",
        "    downstream_seq = ref_dna_seq[3 * (mutation_pos - 1):]\n",
        "    mutated_dna_seq = upstream_seq + frameshift_seq + downstream_seq\n",
        "\n",
        "# Translate the mutated DNA sequence to protein\n",
        "mutated_prot_seq = mutated_dna_seq.translate()\n"
      ]
    },
    {
      "cell_type": "code",
      "execution_count": null,
      "metadata": {},
      "outputs": [],
      "source": []
    },
    {
      "cell_type": "code",
      "execution_count": null,
      "metadata": {},
      "outputs": [],
      "source": []
    }
  ],
  "metadata": {
    "colab": {
      "provenance": []
    },
    "kernelspec": {
      "display_name": "Python 3",
      "name": "python3"
    },
    "language_info": {
      "codemirror_mode": {
        "name": "ipython",
        "version": 3
      },
      "file_extension": ".py",
      "mimetype": "text/x-python",
      "name": "python",
      "nbconvert_exporter": "python",
      "pygments_lexer": "ipython3",
      "version": "3.9.16"
    }
  },
  "nbformat": 4,
  "nbformat_minor": 0
}
